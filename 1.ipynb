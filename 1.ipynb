{
 "cells": [
  {
   "cell_type": "markdown",
   "metadata": {},
   "source": [
    "# WeChat Pay Data Analysis\n",
    "    * This Project will show my life process. My bill can represent the situation I get in to. Something like fall in love, Breaking up ETC.\n",
    "    "
   ]
  },
  {
   "cell_type": "code",
   "execution_count": 104,
   "metadata": {},
   "outputs": [
    {
     "name": "stdout",
     "output_type": "stream",
     "text": [
      "                     交易时间      交易类型    交易对方                 商品 收/支     金额(元)  \\\n",
      "0     2021-09-29 10:31:14        转账  Edward          转账备注:微信转账  支出  ¥1000.00   \n",
      "1     2021-09-28 13:08:47      微信红包    小庄👼🏻                  /  收入   ¥188.00   \n",
      "2     2021-09-28 13:08:42      微信红包    小庄👼🏻                  /  收入   ¥188.00   \n",
      "3     2021-09-28 13:08:39      微信红包    小庄👼🏻                  /  收入   ¥188.00   \n",
      "4     2021-09-28 10:48:16     转账-退款       /          转账备注:微信转账  收入   ¥100.00   \n",
      "...                   ...       ...     ...                ...  ..       ...   \n",
      "1227  2021-01-02 02:44:18  微信红包（单发）   发给·Q·                  /  支出    ¥66.66   \n",
      "1228  2021-01-01 21:29:34      商户消费  杭州西溪天街  杭州西溪天街 浙A0392W停车费  支出    ¥30.00   \n",
      "1229  2021-01-01 21:20:58      商户消费    搜电科技              充电宝租借  支出     ¥4.50   \n",
      "1230  2021-01-01 18:22:57        转账     何骡子          转账备注:微信转账  支出    ¥60.00   \n",
      "1231  2021-01-01 18:04:28        转账      粉红          转账备注:微信转账  支出    ¥65.00   \n",
      "\n",
      "     支付方式   当前状态                                    交易单号  \\\n",
      "0      零钱  朋友已收钱  100005000121092900083345337128945096\\t   \n",
      "1       /  已存入零钱       1000039901000109287403639035029\\t   \n",
      "2       /  已存入零钱       1000039901000109287010088940097\\t   \n",
      "3       /  已存入零钱       1000039901000109287041481946008\\t   \n",
      "4      零钱  已全额退款       1000050001202109281509541478933\\t   \n",
      "...   ...    ...                                     ...   \n",
      "1227   零钱   支付成功  100003980121010200093341726001421096\\t   \n",
      "1228   零钱   支付成功          4200000846202101018099539741\\t   \n",
      "1229   零钱   支付成功          4200000808202101017638688229\\t   \n",
      "1230   零钱  朋友已收钱  100005000121010100093341225431150096\\t   \n",
      "1231   零钱  朋友已收钱  100005000121010100093341425427168096\\t   \n",
      "\n",
      "                                    商户单号 备注  \n",
      "0      1000050001202109290706925805461\\t  /  \n",
      "1      1000039901202109287403639035029\\t  /  \n",
      "2      1000039901202109287010088940097\\t  /  \n",
      "3      1000039901202109287041481946008\\t  /  \n",
      "4                                     \\t  /  \n",
      "...                                  ... ..  \n",
      "1227   1000039801202101027376573229706\\t  /  \n",
      "1228    01532021010121292930b05d33bce4\\t  /  \n",
      "1229  iYx--AcymGj_eL7ZOhXbfzxxxxxzQNyx\\t  /  \n",
      "1230   1000050001202101012603394438245\\t  /  \n",
      "1231   1000050001202101011606702751272\\t  /  \n",
      "\n",
      "[1232 rows x 11 columns]\n"
     ]
    }
   ],
   "source": [
    "import pandas as pd\n",
    "import numpy as np\n",
    "\n",
    "df = pd.read_csv(\"微信支付账单.csv\")\n",
    "print(df)"
   ]
  },
  {
   "cell_type": "markdown",
   "metadata": {},
   "source": [
    "### I don't need something in the dataframe becuase they are meaningless to present the result from my bill\n",
    "    * We do not need to know order number. That is not my issue but the IT company's. They have to store that data to check their income and outcome.\n",
    "    * Situation of the order. I never have faild payment so the situation of orders always paying successfully.\n",
    "    * Comment is not nececary because through WeChat Pay, I do not use the comment but in alipay I would. But alipay's bill file has lots of problem.\n",
    "#### That is why I drop these 4 columns."
   ]
  },
  {
   "cell_type": "code",
   "execution_count": 105,
   "metadata": {},
   "outputs": [
    {
     "name": "stdout",
     "output_type": "stream",
     "text": [
      "                    交易时间   交易类型  交易对方         商品 收/支   金额(元) 支付方式\n",
      "1    2021-09-28 13:08:47   微信红包  小庄👼🏻          /  收入  188.00    /\n",
      "2    2021-09-28 13:08:42   微信红包  小庄👼🏻          /  收入  188.00    /\n",
      "3    2021-09-28 13:08:39   微信红包  小庄👼🏻          /  收入  188.00    /\n",
      "4    2021-09-28 10:48:16  转账-退款     /  转账备注:微信转账  收入  100.00   零钱\n",
      "6    2021-09-28 01:52:00     转账    妈👩  转账备注:生日快乐  收入  520.00    /\n",
      "...                  ...    ...   ...        ...  ..     ...  ...\n",
      "1193 2021-01-09 11:06:16     转账    妈👩  转账备注:微信转账  收入   50.00    /\n",
      "1204 2021-01-07 14:23:50     转账    老姐  转账备注:微信转账  收入   50.00    /\n",
      "1205 2021-01-07 11:32:17   微信红包    十一          /  收入    0.01    /\n",
      "1214 2021-01-06 11:30:11   微信红包    十一          /  收入    0.03    /\n",
      "1218 2021-01-05 19:22:26     转账   FFF  转账备注:微信转账  收入  500.00    /\n",
      "\n",
      "[243 rows x 7 columns]\n"
     ]
    }
   ],
   "source": [
    "df = df.drop(columns=['交易单号','商户单号','当前状态','备注'])\n",
    "df[\"金额(元)\"] = df[\"金额(元)\"].map(lambda x: str(x).lstrip('¥').rstrip('¥')).astype(float)\n",
    "df[\"交易时间\"] = pd.to_datetime(df[\"交易时间\"],format='%Y-%m-%d') \n",
    "#print(df[\"金额(元)\"].sum())\n",
    "df_income = df.loc[df['收/支'] == '收入']\n",
    "df_outcome = df.loc[df['收/支'] == '支出']\n",
    "print(df_income)"
   ]
  },
  {
   "cell_type": "markdown",
   "metadata": {},
   "source": [
    "## Last year happened lots of things. \n",
    "    * I broke up 2 times last year \n",
    "    * First time I study abroad So I get more money from my family than before."
   ]
  },
  {
   "cell_type": "code",
   "execution_count": 106,
   "metadata": {},
   "outputs": [
    {
     "name": "stdout",
     "output_type": "stream",
     "text": [
      "79406.96\n"
     ]
    }
   ],
   "source": [
    "print(df_income['金额(元)'].sum())\n",
    "df_ex1 = df_income.loc[df_income['交易对方'] == '清和月五']\n",
    "df_ex2 = df_income.loc[df_income['交易对方'] == 'T__a']\n",
    "df_ex1o = df_outcome.loc[df_outcome['交易对方'] == '清和月五']\n",
    "df_ex2o = df_outcome.loc[df_outcome['交易对方'] == '.']\n",
    "df_mom = df_income.loc[df_income['交易对方'] == '妈👩']\n",
    "df_dad = df_income.loc[df_income['交易对方'] == '爸👨']\n",
    "df_momo = df_outcome.loc[df_outcome['交易对方'] == '妈👩']\n",
    "df_dado = df_outcome.loc[df_outcome['交易对方'] == '爸👨']\n"
   ]
  },
  {
   "cell_type": "markdown",
   "metadata": {},
   "source": [
    "## So I totally get 79406.96 rmb last year.\n",
    "    * It can be converted to $12310"
   ]
  },
  {
   "cell_type": "code",
   "execution_count": 107,
   "metadata": {},
   "outputs": [
    {
     "name": "stdout",
     "output_type": "stream",
     "text": [
      "84432.79000000001\n"
     ]
    }
   ],
   "source": [
    "print(df_outcome['金额(元)'].sum())"
   ]
  },
  {
   "cell_type": "markdown",
   "metadata": {},
   "source": [
    "# But I spend 84433 rmb last year\n",
    "    * It can be converted to $13090\n",
    "    * That is meaning I did not save any money last year"
   ]
  },
  {
   "cell_type": "code",
   "execution_count": 108,
   "metadata": {},
   "outputs": [
    {
     "name": "stdout",
     "output_type": "stream",
     "text": [
      "66576.44\n"
     ]
    }
   ],
   "source": [
    "df_xiaofei = df_outcome.loc[df_outcome['交易类型'] == '商户消费']\n",
    "print(df_xiaofei['金额(元)'].sum())\n",
    "print((66576.44/84433)*100,\"%\")"
   ]
  },
  {
   "cell_type": "markdown",
   "metadata": {},
   "source": [
    "## I almost spend money on reatraunt and parking lot\n",
    "    * I spend 66576 rmb on these things "
   ]
  },
  {
   "cell_type": "code",
   "execution_count": 109,
   "metadata": {},
   "outputs": [
    {
     "name": "stdout",
     "output_type": "stream",
     "text": [
      "income from 1st ex 1561.0\n",
      "income from 2st ex 198.9\n",
      "income from dad and mom 58742.66\n",
      "outcome to 1st ex 3587.17\n",
      "outcome to 2st ex 6395.0\n",
      "outcome to dad and mom 0.0\n"
     ]
    }
   ],
   "source": [
    "print(\"income from 1st ex\",df_ex1['金额(元)'].sum())\n",
    "print(\"income from 2st ex\",df_ex2['金额(元)'].sum())\n",
    "print(\"income from dad and mom\",df_mom['金额(元)'].sum() + df_dad['金额(元)'].sum())\n",
    "print(\"outcome to 1st ex\",df_ex1o['金额(元)'].sum())\n",
    "print(\"outcome to 2st ex\",df_ex2o['金额(元)'].sum())\n",
    "print(\"outcome to dad and mom\",df_momo['金额(元)'].sum() + df_dado['金额(元)'].sum())"
   ]
  },
  {
   "cell_type": "markdown",
   "metadata": {},
   "source": [
    "## 1st Ex love me more than 2nd but I gave more money to 2nd ex. But you should know parents always love you mostly\n",
    "    * People always love who love them not that much but ignore Who really love them\n",
    "    * tips: stop spend money and time on who maybe will leave you. Spend more money and time with parents. They are getting older."
   ]
  }
 ],
 "metadata": {
  "interpreter": {
   "hash": "7b4b4feff2f24a0f0a34464dbe537a36fda679851528fb8735cb41fa49dffb2d"
  },
  "kernelspec": {
   "display_name": "Python 3.9.7 64-bit (system)",
   "language": "python",
   "name": "python3"
  },
  "language_info": {
   "codemirror_mode": {
    "name": "ipython",
    "version": 3
   },
   "file_extension": ".py",
   "mimetype": "text/x-python",
   "name": "python",
   "nbconvert_exporter": "python",
   "pygments_lexer": "ipython3",
   "version": "3.9.7"
  },
  "orig_nbformat": 4
 },
 "nbformat": 4,
 "nbformat_minor": 2
}
