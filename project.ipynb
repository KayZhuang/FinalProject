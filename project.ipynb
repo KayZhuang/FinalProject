{
 "cells": [
  {
   "cell_type": "markdown",
   "metadata": {},
   "source": [
    "# WeChat Pay Data Analysis\n",
    "### Kay Zhuang| CPSC 222 | Dr. Gina Sprint | 4-15-2022\n",
    "#### In this project, We will know how much, when, and with whom I have spent while in China.\n",
    "\n",
    "### Introduction\n",
    "* Bills usually show changes in a person's life, and through changes in spending, you can determine what period people are in and their relationships. This bill is for all the bills in 2021 before I came to the US. So the bill only selects the part from January to September.\n",
    "* The bill format is csv, which I download from the WeChat payment program. \n",
    "    * There are 1232 transaction records. Also has the following categories “交易时间,交易类型,交易对方,商品,收/支,金额(元),支付方式,当前状态,交易单号,商户单号,备注”\n",
    "        * 交易时间 = transaction time\n",
    "        * 交易类型 = transaction type\n",
    "        * 交易对方 = transaction counterparty\n",
    "        * 商品 = commodity\n",
    "        * 收/支 = receipt/expenditure\n",
    "        * 金额(元) = amount (rmb)\n",
    "        * 支付方式 = payment method\n",
    "        * 当前状态 = current status\n",
    "        * 交易单号 = transaction order number\n",
    "        * 商户单号 = merchant order number\n",
    "        * 备注 = remarks\n",
    "\n",
    "#### Goal\n",
    "* Find out the relationship between how much money I use and relationships and time.\n",
    "    * Can money express love?\n",
    "    * Do I usually spend more than usual on vacations?\n",
    "    * The relationship between income and traditional Chinese interpersonal relationships."
   ]
  },
  {
   "cell_type": "markdown",
   "metadata": {},
   "source": [
    "### Project started\n",
    "#### Imports"
   ]
  },
  {
   "cell_type": "code",
   "execution_count": 1,
   "metadata": {},
   "outputs": [
    {
     "data": {
      "text/plain": [
       "<module 'utils' from 'c:\\\\Users\\\\zhuan\\\\Desktop\\\\CS\\\\CPSC222\\\\pj\\\\utils.py'>"
      ]
     },
     "execution_count": 1,
     "metadata": {},
     "output_type": "execute_result"
    }
   ],
   "source": [
    "import pandas as pd\n",
    "import numpy as np\n",
    "import seaborn as sns\n",
    "import matplotlib.pyplot as plt\n",
    "from sklearn.preprocessing import MinMaxScaler\n",
    "from sklearn.neighbors import KNeighborsClassifier\n",
    "from sklearn.model_selection import train_test_split\n",
    "from sklearn.metrics import accuracy_score\n",
    "from sklearn import preprocessing\n",
    "from scipy import stats\n",
    "import utils\n",
    "import importlib\n",
    "importlib.reload(utils)"
   ]
  },
  {
   "cell_type": "markdown",
   "metadata": {},
   "source": [
    "### Now read the data by using pandas"
   ]
  },
  {
   "cell_type": "code",
   "execution_count": 2,
   "metadata": {},
   "outputs": [],
   "source": [
    "df = pd.read_csv(\"微信支付账单.csv\")"
   ]
  },
  {
   "cell_type": "markdown",
   "metadata": {},
   "source": [
    "### I don't need something in the dataframe becuase they are meaningless to present the result from my bill\n",
    "* We do not need to know order number. That is not my issue but the IT company's. They have to store that data to check their income and outcome.\n",
    "* Situation of the order. I never have faild payment so the situation of orders always paying successfully.\n",
    "* Remarks is not nececary because through WeChat Pay, I do not use the comment but in alipay I would. But alipay's bill file has lots of problem.\n",
    "* ¥ symbol will make the price cannot be calculated. So drop it\n",
    "* Set date time as a format\n",
    "* Split income and expenses into two dataframes"
   ]
  },
  {
   "cell_type": "code",
   "execution_count": 3,
   "metadata": {},
   "outputs": [],
   "source": [
    "df = df.drop(columns=['交易单号','商户单号','当前状态','备注'])\n",
    "df[\"金额(元)\"] = df[\"金额(元)\"].map(lambda x: str(x).lstrip('¥').rstrip('¥')).astype(float)\n",
    "df[\"交易时间\"] = pd.to_datetime(df[\"交易时间\"],format='%Y-%m-%d') \n",
    "df['交易时间'] = df['交易时间'].map(lambda x: str(x)[:-9])\n",
    "df_income = df.loc[df['收/支'] == '收入']\n",
    "df_out = df.loc[df['收/支'] == '支出']"
   ]
  },
  {
   "cell_type": "markdown",
   "metadata": {},
   "source": [
    "## interpersonal relationship\n",
    "* Relationships vary from country to country, and some women in China believe that the amount of money their spouse pays for them can measure the level of their love. During holidays, couples express their love by transferring money and giving gifts. Coincidentally, I had two ex-girlfriends last year. I can pull out my records of transfers to them and compare which one I \"like\" and which one \"likes\" me better."
   ]
  },
  {
   "cell_type": "code",
   "execution_count": 4,
   "metadata": {},
   "outputs": [
    {
     "name": "stdout",
     "output_type": "stream",
     "text": [
      "I got money from 1st ex amount is:  1561.0\n",
      "I got money from 2st ex amount is:  198.9\n"
     ]
    },
    {
     "data": {
      "image/png": "[encoded data removed]",
      "text/plain": [
       "<Figure size 432x288 with 1 Axes>"
      ]
     },
     "metadata": {},
     "output_type": "display_data"
    }
   ],
   "source": [
    "df_ex1 = df_income.loc[df_income['交易对方'] == '清和月五']\n",
    "df_ex2 = df_income.loc[df_income['交易对方'] == 'T__a']\n",
    "print(\"I got money from 1st ex amount is: \", df_ex1['金额(元)'].sum())\n",
    "print(\"I got money from 2st ex amount is: \", df_ex2['金额(元)'].sum())\n",
    "X_income = [1561.0, 198.9]\n",
    "labels = ['EX 1', 'EX 2']\n",
    "fig = plt.figure()\n",
    "plt.pie(X_income,labels=labels,autopct='%1.2f%%')\n",
    "plt.title(\"Money received ratio compare\")\n",
    "plt.show()  "
   ]
  },
  {
   "cell_type": "code",
   "execution_count": 5,
   "metadata": {},
   "outputs": [
    {
     "name": "stdout",
     "output_type": "stream",
     "text": [
      "I send money to 1st ex amount is:  3587.17\n",
      "I send money to 2st ex amount is:  6395.0\n"
     ]
    },
    {
     "data": {
      "image/png": "[encoded data removed]",
      "text/plain": [
       "<Figure size 432x288 with 1 Axes>"
      ]
     },
     "metadata": {},
     "output_type": "display_data"
    }
   ],
   "source": [
    "df_ex1o = df_out.loc[df_out['交易对方'] == '清和月五']\n",
    "df_ex2o = df_out.loc[df_out['交易对方'] == '.']\n",
    "print(\"I send money to 1st ex amount is: \", df_ex1o['金额(元)'].sum())\n",
    "print(\"I send money to 2st ex amount is: \", df_ex2o['金额(元)'].sum())\n",
    "fig = plt.figure()\n",
    "X = [3587.17,6395.0]\n",
    "plt.pie(X,labels=labels,autopct='%1.2f%%')\n",
    "plt.title(\"Money cost compare\")\n",
    "plt.show()  "
   ]
  },
  {
   "cell_type": "markdown",
   "metadata": {},
   "source": [
    "### Outcome\n",
    "* It is often said that those who are loved have nothing to fear, and those who are loved often give less.\n",
    "* Judging by the pictures and numbers, the first ex was more like me, but I paid more for the second ex."
   ]
  },
  {
   "cell_type": "markdown",
   "metadata": {},
   "source": [
    "## Hypothsis Test\n",
    "* I think I always spend more money when I in the relationship, And the coincedence is first 9 months in China I have 6 months during that period. Juan-March yes April-June no and July-Sep yes\n",
    "* My psychological expectation is that the consumption during the relationship should not be higher than 1.5 times the usual.\n",
    "* Standard is 1.5 times normal days money payment per order."
   ]
  },
  {
   "cell_type": "code",
   "execution_count": 6,
   "metadata": {},
   "outputs": [
    {
     "name": "stdout",
     "output_type": "stream",
     "text": [
      "287.69486842105255  rmb\n"
     ]
    }
   ],
   "source": [
    "df_r = pd.read_csv(\"微信支付账单(20210101-20210401).csv\")\n",
    "df_aj = pd.read_csv(\"微信支付账单(20210401-20210701).csv\")\n",
    "df_r = df_r.drop(columns=['交易单号','商户单号','当前状态','备注'])\n",
    "df_r[\"金额(元)\"] = df_r[\"金额(元)\"].map(lambda x: str(x).lstrip('¥').rstrip('¥')).astype(float)\n",
    "df_r['交易时间'] = df_r['交易时间'].map(lambda x: str(x)[:-9])\n",
    "df_aj = df_aj.drop(columns=['交易单号','商户单号','当前状态','备注'])\n",
    "df_aj[\"金额(元)\"] = df_aj[\"金额(元)\"].map(lambda x: str(x).lstrip('¥').rstrip('¥')).astype(float)\n",
    "df_aj['交易时间'] = df_aj['交易时间'].map(lambda x: str(x)[:-9])\n",
    "df_ro = df_r.loc[df_r['收/支'] == '支出']\n",
    "df_ajo = df_aj.loc[df_aj['收/支'] == '支出']\n",
    "df_ro = df_ro.groupby(by='交易时间').sum()\n",
    "df_ajo = df_ajo.groupby(by='交易时间').sum()\n",
    "standard = df_ajo[\"金额(元)\"].mean() * 1.5\n",
    "print(standard,\" rmb\")"
   ]
  },
  {
   "cell_type": "markdown",
   "metadata": {},
   "source": [
    "## The standard is 287.7 rmb per day. It convert to USD is $ 43.5"
   ]
  },
  {
   "cell_type": "markdown",
   "metadata": {},
   "source": [
    "\n",
    "# One Sample, One-tailed Test \n",
    "> The average cost per day for the six months was 488.5 yuan, with a deviation of 1765. Am I spending 1.5 times what I would normally expect to spend in a relationship, at the 0.05 significance level, am I over budget?\n",
    "\n",
    "Step 1: State the null and alternate hypothesis:\n",
    "* $H_0$: $\\mu \\leq 287.7$\n",
    "* $H_1$: $\\mu$ > 287.7\n",
    "\n",
    "Step 2: Select the level of significance:\n",
    "* $\\alpha$ = 0.05\n",
    "\n",
    "Step 3: Select the appropriate test statistic:\n",
    "* $t=\\frac{\\overline{x} - \\mu}{s / \\sqrt{n}}$"
   ]
  },
  {
   "cell_type": "code",
   "execution_count": 7,
   "metadata": {},
   "outputs": [
    {
     "name": "stdout",
     "output_type": "stream",
     "text": [
      "488.50524475524486\n",
      "1765.006133730248\n",
      "t= 1.3605294589257186 p(double tail)= 0.1758181118878576\n",
      "Fail to reject H0, p-value: 0.0879090559439288\n"
     ]
    }
   ],
   "source": [
    "# Sample Average\n",
    "sample_mean=df_ro['金额(元)'].mean()\n",
    "# Sample Standard Deviation\n",
    "sample_std=df_ro['金额(元)'].std()\n",
    "alpha = 0.05\n",
    "print(sample_mean)\n",
    "print(sample_std)\n",
    "t,p_ =stats.ttest_1samp(df_ro['金额(元)'],standard)\n",
    "print('t=',t,'p(double tail)=',p_) \n",
    "p = p_/2\n",
    "if t < 0 and p < alpha: # test t_computed < 0 for a left-tailed test\n",
    "    print(\"Reject H0, p-value:\", p )\n",
    "else:\n",
    "    print(\"Fail to reject H0, p-value:\", p)\n"
   ]
  },
  {
   "cell_type": "markdown",
   "metadata": {},
   "source": [
    "Conclusion\n",
    "* At the 0.05 significance level, we can conclude that I spend more than the standard I made.\n",
    "* I should save my money :("
   ]
  },
  {
   "cell_type": "markdown",
   "metadata": {},
   "source": [
    "## Traditions\n",
    "* Chinese holiday tradition is to give money, and children will also receive money from adults as a blessing for their further education.\n",
    "* I will show a histogram for 9 months."
   ]
  },
  {
   "cell_type": "code",
   "execution_count": 8,
   "metadata": {},
   "outputs": [
    {
     "name": "stderr",
     "output_type": "stream",
     "text": [
      "C:\\Users\\zhuan\\AppData\\Local\\Temp/ipykernel_28280/2013006975.py:1: SettingWithCopyWarning: \n",
      "A value is trying to be set on a copy of a slice from a DataFrame.\n",
      "Try using .loc[row_indexer,col_indexer] = value instead\n",
      "\n",
      "See the caveats in the documentation: https://pandas.pydata.org/pandas-docs/stable/user_guide/indexing.html#returning-a-view-versus-a-copy\n",
      "  df_income['交易时间'] = df_income['交易时间'].map(lambda x: str(x)[:-3])\n"
     ]
    },
    {
     "data": {
      "image/png": "[encoded data removed]",
      "text/plain": [
       "<Figure size 432x288 with 1 Axes>"
      ]
     },
     "metadata": {
      "needs_background": "light"
     },
     "output_type": "display_data"
    }
   ],
   "source": [
    "df_income['交易时间'] = df_income['交易时间'].map(lambda x: str(x)[:-3])\n",
    "df_mi = df_income.groupby(by='交易时间').sum()\n",
    "utils.bar_chart_example(df_mi.index,df_mi['金额(元)'],\"Income\",\"Months\",\"Amount\")"
   ]
  },
  {
   "cell_type": "markdown",
   "metadata": {},
   "source": [
    "* 2021-02\n",
    "    * During Chinese New Year, elders usually give red envelopes to younger ones.、\n",
    "* 2021-07\n",
    "    * During this time our family held a celebratory banquet to celebrate my study abroad. (When someone in the family goes to college, there is usually a banquet)\n",
    "    * The Chinese have a custom that males are the key to family reproduction. Surnames are passed down with men, and all my contemporaries are girls. So I am the only male surnamed Zhuang in our genre, and the elders usually give away more money than usual. (Of course I support gender equality)\n",
    "* 2021-08\n",
    "    * People who missed the banquet because of the epidemic usually wait until they meet later to send gifts."
   ]
  },
  {
   "cell_type": "code",
   "execution_count": 9,
   "metadata": {},
   "outputs": [
    {
     "name": "stdout",
     "output_type": "stream",
     "text": [
      "79406.96\n"
     ]
    }
   ],
   "source": [
    "print(df_income['金额(元)'].sum())"
   ]
  },
  {
   "cell_type": "markdown",
   "metadata": {},
   "source": [
    "### So I totally get 79406.96 rmb last year.\n",
    "* It can be converted to $12310"
   ]
  },
  {
   "cell_type": "code",
   "execution_count": 10,
   "metadata": {},
   "outputs": [
    {
     "name": "stdout",
     "output_type": "stream",
     "text": [
      "84432.79000000001\n"
     ]
    }
   ],
   "source": [
    "print(df_out['金额(元)'].sum())"
   ]
  },
  {
   "cell_type": "markdown",
   "metadata": {},
   "source": [
    "### But I spend 84433 rmb last year\n",
    "* It can be converted to $13090\n",
    "* That is meaning I did not save any money last year"
   ]
  },
  {
   "cell_type": "code",
   "execution_count": 11,
   "metadata": {},
   "outputs": [],
   "source": [
    "df_o = df_out.groupby(by='交易类型').sum()\n"
   ]
  },
  {
   "cell_type": "code",
   "execution_count": 12,
   "metadata": {},
   "outputs": [
    {
     "data": {
      "image/png": "[encoded data removed]",
      "text/plain": [
       "<Figure size 432x288 with 1 Axes>"
      ]
     },
     "metadata": {},
     "output_type": "display_data"
    }
   ],
   "source": [
    "fig = plt.figure()\n",
    "x = [462.35, 66576.44, 100.00, 2271.37, 304.05, 14707.37]\n",
    "lbs = ['WeChat red envelope (single)','Merchant consumption', 'WeChat Red envelope (Group Red envelope)', 'Scan QR code to pay', 'group collection', 'transfer']\n",
    "plt.pie(x,labels=lbs,autopct='%1.2f%%',pctdistance=0.9,explode=(0,0,0.4,1,1.5,0))\n",
    "plt.title(\"Money cost compare\")\n",
    "plt.show()  "
   ]
  },
  {
   "cell_type": "markdown",
   "metadata": {},
   "source": [
    "Merchant consumption is usually parking, restaurants, and shops. This is my main consumption method. However, the data sources do not clearly indicate what these consumptions are. Only write the company name, or the name of the restaurant, I have no way to clear it out. Because there are too many different names, and it is difficult to find similar keywords to organize."
   ]
  },
  {
   "cell_type": "markdown",
   "metadata": {},
   "source": [
    "# Classification\n",
    "* For this, I wonder if the type of transaction can be identified by the amount of the transaction?\n",
    "    * But this is more difficult to achieve, because no matter what type of transaction, the size of the transaction amount is possible."
   ]
  },
  {
   "cell_type": "markdown",
   "metadata": {},
   "source": [
    "It is not work\n",
    "* I tried different ways to do it but sometimes it shown the samples length is not match, or Reshape your data either using array.reshape(-1, 1) if your data has a single feature or array.reshape(1, -1) if it contains a single sample.\n",
    "* I did not find other more suitable samples to make predictions. The uncertainty of the price data is too great.\n",
    "* If the commodity consumed can be specific to the type, it should be possible to make kNN predictions. Because I usually spend 100-300 RMB for meals and 5-30 RMB for parking. But the amount of money does not only include these, and they are also unified for merchant consumption.\n",
    "* That's one of the downsides of doing analytics with bills, it would help if I had more data that I could use for analytics, unfortunately I found a lot of Chinese software that I've used in the past and they don't provide customer data. Some websites are blocked by the firewall through the school network. Maybe it's time to try software like Spotify."
   ]
  },
  {
   "cell_type": "markdown",
   "metadata": {},
   "source": [
    "# Conclusion\n",
    "* Until early this morning I was still trying to find a sample to make predictions, but without success. But looking at your bills from a fresh perspective pays off.\n",
    "* I think this project can provide an opportunity for people to look at the consumption of their own life from another perspective. Because it doesn't feel like a lot of spending, like I don't feel like I've spent more than $10,000 at all. (Of course, buying a car this year has already exceeded this number.) If I can get a better idea of consumption out of it, it must be better.\n",
    "* If the source of the data is less ambiguous, then the analysis can be done better. Because the data sources are all in Chinese, and the results of the translation program are not satisfactory, so I gave up using the translation code.\n",
    "* Seeing that money spent on other people doesn't turn out well is more regrettable (lol). So I figured I'd spend it on my loved ones and myself after that."
   ]
  }
 ],
 "metadata": {
  "interpreter": {
   "hash": "7b4b4feff2f24a0f0a34464dbe537a36fda679851528fb8735cb41fa49dffb2d"
  },
  "kernelspec": {
   "display_name": "Python 3.9.7 64-bit (system)",
   "language": "python",
   "name": "python3"
  },
  "language_info": {
   "codemirror_mode": {
    "name": "ipython",
    "version": 3
   },
   "file_extension": ".py",
   "mimetype": "text/x-python",
   "name": "python",
   "nbconvert_exporter": "python",
   "pygments_lexer": "ipython3",
   "version": "3.9.7"
  },
  "orig_nbformat": 4
 },
 "nbformat": 4,
 "nbformat_minor": 2
}
